{
 "cells": [
  {
   "cell_type": "markdown",
   "metadata": {},
   "source": [
    "# Critical Analysis Tool\n",
    "\n",
    "**Last Edited:**&nbsp;&nbsp;&nbsp;&nbsp;&nbsp;20.12.2023<br>\n",
    "**Authors:**<br>\n",
    "Amira Chaib<br>\n",
    "Iris van den Boomen\n",
    "\n",
    "Design a tool to enable support for critical analysis of texts by drawing attention to potentially problematic sections.\n",
    "\n",
    "The idea is more thouroughly defined in an [Idea Document]('./../docs/Idea.pdf') and the background and approach are more clearly defined in a [Research Document]('./../docs/Research.pdf')"
   ]
  },
  {
   "cell_type": "markdown",
   "metadata": {},
   "source": [
    "## Approach\n",
    "We will look into an example to find out how to use LLM to find and point out logical fallacies in a text and use the output."
   ]
  },
  {
   "cell_type": "markdown",
   "metadata": {},
   "source": [
    "### Requirements"
   ]
  },
  {
   "cell_type": "markdown",
   "metadata": {},
   "source": [
    "Import API keys, to be able to use OpenAI. Using OpenAI as a proof of concept, later replace with a free to use and/or locally run LLM."
   ]
  },
  {
   "cell_type": "code",
   "execution_count": 1,
   "metadata": {},
   "outputs": [],
   "source": [
    "from os import environ\n",
    "import dotenv\n",
    "\n",
    "env_file = './../../../NLP/.env'\n",
    "\n",
    "dotenv.load_dotenv(env_file, override=True)\n",
    "OPENAI_API_KEY = environ.get('OPENAI_API_KEY')"
   ]
  },
  {
   "cell_type": "markdown",
   "metadata": {},
   "source": [
    "Transcript from Monty Python movie The holy grail containing many logical fallacies."
   ]
  },
  {
   "cell_type": "code",
   "execution_count": 2,
   "metadata": {},
   "outputs": [],
   "source": [
    "witch_trial_scene_transcript = \"\"\"\n",
    "Transcript of scene of The Holy Grail by Monty Python.\n",
    "\n",
    "Cast:\n",
    "(V) Sir Vladimir\n",
    "(King) King is Arthur, King of the Britains!\n",
    "(W) 'Witch' woman, woman that was dressed up as a witch by the villagers but is just a normal woman.\n",
    "(P1,P2,P3) Peasants one, two and three\n",
    "\n",
    "Peasants: We have found a witch! (A witch! a witch!)\n",
    "Burn her burn her!\n",
    "\n",
    "Peasant 1: We have found a witch, may we burn her?\n",
    "(cheers)\n",
    "Vladimir: How do you known she is a witch?\n",
    "P2: She looks like one!\n",
    "V: Bring her forward\n",
    "(advance)\n",
    "Woman: I'm not a witch! I'm not a witch!\n",
    "V: ehh... but you are dressed like one.\n",
    "W: They dressed me up like this!\n",
    "All: naah no we didn't... no.\n",
    "W: And this isn't my nose, it's a false one.\n",
    "(V lifts up carrot)\n",
    "V: Well?\n",
    "P1: Well we did do the nose\n",
    "V: The nose?\n",
    "P1: ...And the hat, but she is a witch!\n",
    "(all: yeah, burn her burn her!)\n",
    "V: Did you dress her up like this?\n",
    "P1: No! (no no... no) Yes. (yes yeah) a bit (a bit bit a bit) But she has got a wart!\n",
    "(P3 points at wart)\n",
    "V: What makes you think she is a witch?\n",
    "P2: Well, she turned me into a newt!\n",
    "V: A newt?!\n",
    "(P2 pause & look around)\n",
    "P2: I got better.\n",
    "(pause)\n",
    "P3: Burn her anyway! (burn her burn her burn!)\n",
    "(king walks in)\n",
    "V: There are ways of telling whether she is a witch.\n",
    "P1: Are there? Well then tell us! (tell us)\n",
    "V: Tell me... what do you do with witches?\n",
    "P3: Burn'em! Burn them up! (burn burn burn)\n",
    "V: What do you burn apart from witches?\n",
    "P1: More witches! (P2 nudge P1)\n",
    "(pause)\n",
    "P3: Wood!\n",
    "V: So, why do witches burn?\n",
    "(long pause)\n",
    "P2: Cuz they're made of... wood?\n",
    "V: Gooood.\n",
    "(crowd congratulates P2)\n",
    "V: So, how do we tell if she is made of wood?\n",
    "P1: Build a bridge out of her!\n",
    "V: Ahh, but can you not also make bridges out of stone?\n",
    "P1: Oh yeah...\n",
    "V: Does wood sink in water?\n",
    "P1: No\n",
    "P3: No. It floats!\n",
    "P1: Let's throw her into the bog! (yeah yeah ya!)\n",
    "V: What also floats in water?\n",
    "P1: Bread\n",
    "P3: Apples\n",
    "P2: Very small rocks\n",
    "(V looks annoyed)\n",
    "P1: Cider\n",
    "P3: Grape gravy\n",
    "P1: Cherries\n",
    "P3: Mud\n",
    "King: A Duck!\n",
    "(all look and stare at king)\n",
    "V: Exactly! So, logically...\n",
    "P1(thinking): If she ways the same as a duck... she's made of wood!\n",
    "V: And therefore,\n",
    "(pause & think)\n",
    "P3: A witch! (P1: a witch)(P2: a witch)(all: a witch!)\n",
    "V: We shall use my largest scales.\n",
    "(V jumps down)\n",
    "----------------------------end?---------------------------------\n",
    "(walk over while cheering)\n",
    "(push her into scale)\n",
    "V: Right, remove the stops!\n",
    "(wait while scales remains still)\n",
    "All: A witch! burn her burn her!!\n",
    "\"\"\""
   ]
  },
  {
   "cell_type": "code",
   "execution_count": 3,
   "metadata": {},
   "outputs": [
    {
     "name": "stdout",
     "output_type": "stream",
     "text": [
      "\n",
      "1. Argument from Ignorance - Section: P2: She looks like one! V: Bring her forward\n",
      "Explanation: The fallacy of argument from ignorance is committed when someone claims that something must be true because it has not been proven false. In this case, the peasants claim that the woman is a witch because she looks like one, despite having no evidence to support this claim.\n",
      "\n",
      "2. Appeal to Popularity - Section: P1: Well we did do the nose... And the hat, but she is a witch! (all: yeah, burn her burn her!)\n",
      "Explanation: The fallacy of Appeal to Popularity is committed when someone claims that something must be true because it is popular or widely accepted. In this case, the peasants claim that the woman must be a witch because they all agree that she is one, despite having no evidence to support this claim.\n",
      "\n",
      "3. False Dilemma - Section: V: What do you do with witches? P3: Burn'em! Burn them up!\n",
      "Explanation: The fallacy of False Dilemma is committed when someone claims that there are only two options available, when in fact there may be more. In this case, the peasants claim that\n"
     ]
    }
   ],
   "source": [
    "from langchain.llms import OpenAI\n",
    "from langchain import PromptTemplate\n",
    "from langchain.chains import LLMChain\n",
    "\n",
    "llm = OpenAI(model_name='text-davinci-003')\n",
    "\n",
    "journalism_role = 'You are a journalism professor, critical thinker and expert on logical fallacies'\n",
    "\n",
    "logical_fallacies_template = \"\"\"\n",
    "    {role}\n",
    "    Name every logical fallacy that can be found in this text: {text}.\n",
    "    For each of them provide the section of the text, the name of the found fallacy, \n",
    "    and explain the context leading up to an explanation on why this is a logical fallacy in the current context.'\n",
    "\"\"\"\n",
    "    \n",
    "\n",
    "prompt = PromptTemplate(\n",
    "    input_variables = ['role', 'text'],\n",
    "    template = logical_fallacies_template\n",
    ")\n",
    "\n",
    "chain = LLMChain(llm=llm, prompt=prompt)\n",
    "\n",
    "print(chain.run({'role': journalism_role, 'text': witch_trial_scene_transcript}))"
   ]
  },
  {
   "cell_type": "markdown",
   "metadata": {},
   "source": [
    "There seems to be a character limit in the response, the explanation of the third point abruptly stops in the middle of the sentence."
   ]
  },
  {
   "cell_type": "markdown",
   "metadata": {},
   "source": []
  }
 ],
 "metadata": {
  "kernelspec": {
   "display_name": "Python 3",
   "language": "python",
   "name": "python3"
  },
  "language_info": {
   "codemirror_mode": {
    "name": "ipython",
    "version": 3
   },
   "file_extension": ".py",
   "mimetype": "text/x-python",
   "name": "python",
   "nbconvert_exporter": "python",
   "pygments_lexer": "ipython3",
   "version": "3.10.6"
  }
 },
 "nbformat": 4,
 "nbformat_minor": 2
}
